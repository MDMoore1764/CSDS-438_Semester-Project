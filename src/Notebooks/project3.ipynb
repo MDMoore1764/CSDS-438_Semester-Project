{
 "cells": [
  {
   "cell_type": "code",
   "execution_count": 6,
   "metadata": {},
   "outputs": [
    {
     "name": "stdout",
     "output_type": "stream",
     "text": [
      "\u001b[1m1/1\u001b[0m \u001b[32m━━━━━━━━━━━━━━━━━━━━\u001b[0m\u001b[37m\u001b[0m \u001b[1m0s\u001b[0m 46ms/step\n"
     ]
    },
    {
     "data": {
      "text/html": [
       "<pre style=\"white-space:pre;overflow-x:auto;line-height:normal;font-family:Menlo,'DejaVu Sans Mono',consolas,'Courier New',monospace\"><span style=\"font-weight: bold\">Model: \"functional_11\"</span>\n",
       "</pre>\n"
      ],
      "text/plain": [
       "\u001b[1mModel: \"functional_11\"\u001b[0m\n"
      ]
     },
     "metadata": {},
     "output_type": "display_data"
    },
    {
     "data": {
      "text/html": [
       "<pre style=\"white-space:pre;overflow-x:auto;line-height:normal;font-family:Menlo,'DejaVu Sans Mono',consolas,'Courier New',monospace\">┏━━━━━━━━━━━━━━━━━━━━━━━━━━━━━━━━━┳━━━━━━━━━━━━━━━━━━━━━━━━┳━━━━━━━━━━━━━━━┓\n",
       "┃<span style=\"font-weight: bold\"> Layer (type)                    </span>┃<span style=\"font-weight: bold\"> Output Shape           </span>┃<span style=\"font-weight: bold\">       Param # </span>┃\n",
       "┡━━━━━━━━━━━━━━━━━━━━━━━━━━━━━━━━━╇━━━━━━━━━━━━━━━━━━━━━━━━╇━━━━━━━━━━━━━━━┩\n",
       "│ input_layer_9 (<span style=\"color: #0087ff; text-decoration-color: #0087ff\">InputLayer</span>)      │ (<span style=\"color: #00d7ff; text-decoration-color: #00d7ff\">None</span>, <span style=\"color: #00af00; text-decoration-color: #00af00\">100</span>, <span style=\"color: #00af00; text-decoration-color: #00af00\">1</span>)         │             <span style=\"color: #00af00; text-decoration-color: #00af00\">0</span> │\n",
       "├─────────────────────────────────┼────────────────────────┼───────────────┤\n",
       "│ sequential_6 (<span style=\"color: #0087ff; text-decoration-color: #0087ff\">Sequential</span>)       │ (<span style=\"color: #00d7ff; text-decoration-color: #00d7ff\">None</span>, <span style=\"color: #00af00; text-decoration-color: #00af00\">2944</span>)           │        <span style=\"color: #00af00; text-decoration-color: #00af00\">49,792</span> │\n",
       "├─────────────────────────────────┼────────────────────────┼───────────────┤\n",
       "│ sequential_7 (<span style=\"color: #0087ff; text-decoration-color: #0087ff\">Sequential</span>)       │ (<span style=\"color: #00d7ff; text-decoration-color: #00d7ff\">None</span>, <span style=\"color: #00af00; text-decoration-color: #00af00\">100</span>)            │       <span style=\"color: #00af00; text-decoration-color: #00af00\">294,500</span> │\n",
       "└─────────────────────────────────┴────────────────────────┴───────────────┘\n",
       "</pre>\n"
      ],
      "text/plain": [
       "┏━━━━━━━━━━━━━━━━━━━━━━━━━━━━━━━━━┳━━━━━━━━━━━━━━━━━━━━━━━━┳━━━━━━━━━━━━━━━┓\n",
       "┃\u001b[1m \u001b[0m\u001b[1mLayer (type)                   \u001b[0m\u001b[1m \u001b[0m┃\u001b[1m \u001b[0m\u001b[1mOutput Shape          \u001b[0m\u001b[1m \u001b[0m┃\u001b[1m \u001b[0m\u001b[1m      Param #\u001b[0m\u001b[1m \u001b[0m┃\n",
       "┡━━━━━━━━━━━━━━━━━━━━━━━━━━━━━━━━━╇━━━━━━━━━━━━━━━━━━━━━━━━╇━━━━━━━━━━━━━━━┩\n",
       "│ input_layer_9 (\u001b[38;5;33mInputLayer\u001b[0m)      │ (\u001b[38;5;45mNone\u001b[0m, \u001b[38;5;34m100\u001b[0m, \u001b[38;5;34m1\u001b[0m)         │             \u001b[38;5;34m0\u001b[0m │\n",
       "├─────────────────────────────────┼────────────────────────┼───────────────┤\n",
       "│ sequential_6 (\u001b[38;5;33mSequential\u001b[0m)       │ (\u001b[38;5;45mNone\u001b[0m, \u001b[38;5;34m2944\u001b[0m)           │        \u001b[38;5;34m49,792\u001b[0m │\n",
       "├─────────────────────────────────┼────────────────────────┼───────────────┤\n",
       "│ sequential_7 (\u001b[38;5;33mSequential\u001b[0m)       │ (\u001b[38;5;45mNone\u001b[0m, \u001b[38;5;34m100\u001b[0m)            │       \u001b[38;5;34m294,500\u001b[0m │\n",
       "└─────────────────────────────────┴────────────────────────┴───────────────┘\n"
      ]
     },
     "metadata": {},
     "output_type": "display_data"
    },
    {
     "data": {
      "text/html": [
       "<pre style=\"white-space:pre;overflow-x:auto;line-height:normal;font-family:Menlo,'DejaVu Sans Mono',consolas,'Courier New',monospace\"><span style=\"font-weight: bold\"> Total params: </span><span style=\"color: #00af00; text-decoration-color: #00af00\">344,292</span> (1.31 MB)\n",
       "</pre>\n"
      ],
      "text/plain": [
       "\u001b[1m Total params: \u001b[0m\u001b[38;5;34m344,292\u001b[0m (1.31 MB)\n"
      ]
     },
     "metadata": {},
     "output_type": "display_data"
    },
    {
     "data": {
      "text/html": [
       "<pre style=\"white-space:pre;overflow-x:auto;line-height:normal;font-family:Menlo,'DejaVu Sans Mono',consolas,'Courier New',monospace\"><span style=\"font-weight: bold\"> Trainable params: </span><span style=\"color: #00af00; text-decoration-color: #00af00\">344,292</span> (1.31 MB)\n",
       "</pre>\n"
      ],
      "text/plain": [
       "\u001b[1m Trainable params: \u001b[0m\u001b[38;5;34m344,292\u001b[0m (1.31 MB)\n"
      ]
     },
     "metadata": {},
     "output_type": "display_data"
    },
    {
     "data": {
      "text/html": [
       "<pre style=\"white-space:pre;overflow-x:auto;line-height:normal;font-family:Menlo,'DejaVu Sans Mono',consolas,'Courier New',monospace\"><span style=\"font-weight: bold\"> Non-trainable params: </span><span style=\"color: #00af00; text-decoration-color: #00af00\">0</span> (0.00 B)\n",
       "</pre>\n"
      ],
      "text/plain": [
       "\u001b[1m Non-trainable params: \u001b[0m\u001b[38;5;34m0\u001b[0m (0.00 B)\n"
      ]
     },
     "metadata": {},
     "output_type": "display_data"
    }
   ],
   "source": [
    "import numpy as np\n",
    "import tensorflow as tf\n",
    "import keras\n",
    "\n",
    "SONG_DATA_DIR = \"data\"\n",
    "SAMPLE_RATE = 48_000\n",
    "\n",
    "INPUT_SIZE = int(100)\n",
    "\n",
    "def build_model():\n",
    "    \n",
    "    #Input one second of audio data at a time at SAMPLE_RATE hz.\n",
    "    input = keras.layers.Input(shape=(INPUT_SIZE, 1))\n",
    "    # conv_layer1 = keras.layers.Conv1D(64, 3, activation='relu')\n",
    "    # pool_layer1 = keras.layers.MaxPooling1D(2)\n",
    "    # conv_layer2 = keras.layers.Conv1D(64, 3, activation='relu')\n",
    "    # pool_layer2 = keras.layers.MaxPooling1D(2)\n",
    "    # # flatten_1 = keras.layers.Flatten()\n",
    "    # lstm_layer = keras.layers.LSTM(1024, activation='relu', return_sequences=True)\n",
    "    # deconv_layer1 = keras.layers.Conv1DTranspose(64, 3, activation='relu')\n",
    "    # deconv_layer2 = keras.layers.Conv1DTranspose(64, 3, activation='relu')\n",
    "    # output_layer = keras.layers.Conv2DTranspose(filters=1, kernel_size=3, strides=1, padding='same'),\n",
    "\n",
    "    encoder = keras.models.Sequential([\n",
    "        # input,\n",
    "        keras.layers.Conv1D(128, 3, activation='relu'),\n",
    "        keras.layers.MaxPooling1D(2),\n",
    "         keras.layers.Conv1D(128, 3, activation='relu'),\n",
    "        keras.layers.MaxPooling1D(2),\n",
    "        # keras.layers.Conv1DTranspose(64, 3, activation='relu'),\n",
    "        # keras.layers.Dense(SAMPLE_RATE)\n",
    "        # conv_layer1,\n",
    "        # pool_layer1,\n",
    "        # conv_layer2,\n",
    "        # pool_layer2,\n",
    "        # flatten_1,\n",
    "        # lstm_layer,\n",
    "        # deconv_layer1,\n",
    "        # deconv_layer2\n",
    "        # output_layer\n",
    "        keras.layers.Flatten(),\n",
    "        # keras.layers.LSTM(1024, activation='relu'),\n",
    "    ])\n",
    "    \n",
    "    decoder = keras.models.Sequential([\n",
    "      keras.layers.Dense(INPUT_SIZE, activation='relu'),  \n",
    "    ])\n",
    "    \n",
    "    encoded = encoder(input)\n",
    "    decoded: keras.Sequential = decoder(encoded)\n",
    "    \n",
    "    return keras.Model(input, decoded)\n",
    "\n",
    "model = build_model()\n",
    "\n",
    "optimizer = keras.optimizers.Adam(learning_rate=0.00001)\n",
    "loss = keras.losses.MeanSquaredError()\n",
    "model.compile(optimizer=optimizer, loss=loss, metrics=['accuracy'])\n",
    "\n",
    "model.predict(tf.zeros((1, INPUT_SIZE, 1)))\n",
    "model.summary()\n",
    "\n",
    "\n",
    "        "
   ]
  },
  {
   "cell_type": "code",
   "execution_count": 9,
   "metadata": {},
   "outputs": [
    {
     "name": "stdout",
     "output_type": "stream",
     "text": [
      "(106669, 100, 1)\n",
      "(106669, 100)\n",
      "Epoch 1/20\n",
      "\u001b[1m10667/10667\u001b[0m \u001b[32m━━━━━━━━━━━━━━━━━━━━\u001b[0m\u001b[37m\u001b[0m \u001b[1m24s\u001b[0m 2ms/step - accuracy: 0.3269 - loss: 0.0440\n",
      "Epoch 2/20\n",
      "\u001b[1m10667/10667\u001b[0m \u001b[32m━━━━━━━━━━━━━━━━━━━━\u001b[0m\u001b[37m\u001b[0m \u001b[1m23s\u001b[0m 2ms/step - accuracy: 0.3839 - loss: 0.0435\n",
      "Epoch 3/20\n",
      "\u001b[1m10667/10667\u001b[0m \u001b[32m━━━━━━━━━━━━━━━━━━━━\u001b[0m\u001b[37m\u001b[0m \u001b[1m23s\u001b[0m 2ms/step - accuracy: 0.4125 - loss: 0.0436\n",
      "Epoch 4/20\n",
      "\u001b[1m10667/10667\u001b[0m \u001b[32m━━━━━━━━━━━━━━━━━━━━\u001b[0m\u001b[37m\u001b[0m \u001b[1m23s\u001b[0m 2ms/step - accuracy: 0.4355 - loss: 0.0435\n",
      "Epoch 5/20\n",
      "\u001b[1m10667/10667\u001b[0m \u001b[32m━━━━━━━━━━━━━━━━━━━━\u001b[0m\u001b[37m\u001b[0m \u001b[1m23s\u001b[0m 2ms/step - accuracy: 0.4557 - loss: 0.0435\n",
      "Epoch 6/20\n",
      "\u001b[1m10667/10667\u001b[0m \u001b[32m━━━━━━━━━━━━━━━━━━━━\u001b[0m\u001b[37m\u001b[0m \u001b[1m23s\u001b[0m 2ms/step - accuracy: 0.4673 - loss: 0.0434\n",
      "Epoch 7/20\n",
      "\u001b[1m10667/10667\u001b[0m \u001b[32m━━━━━━━━━━━━━━━━━━━━\u001b[0m\u001b[37m\u001b[0m \u001b[1m23s\u001b[0m 2ms/step - accuracy: 0.4847 - loss: 0.0433\n",
      "Epoch 8/20\n",
      "\u001b[1m10667/10667\u001b[0m \u001b[32m━━━━━━━━━━━━━━━━━━━━\u001b[0m\u001b[37m\u001b[0m \u001b[1m23s\u001b[0m 2ms/step - accuracy: 0.4966 - loss: 0.0438\n",
      "Epoch 9/20\n",
      "\u001b[1m10667/10667\u001b[0m \u001b[32m━━━━━━━━━━━━━━━━━━━━\u001b[0m\u001b[37m\u001b[0m \u001b[1m24s\u001b[0m 2ms/step - accuracy: 0.5104 - loss: 0.0434\n",
      "Epoch 10/20\n",
      "\u001b[1m10667/10667\u001b[0m \u001b[32m━━━━━━━━━━━━━━━━━━━━\u001b[0m\u001b[37m\u001b[0m \u001b[1m23s\u001b[0m 2ms/step - accuracy: 0.5243 - loss: 0.0434\n",
      "Epoch 11/20\n",
      "\u001b[1m10667/10667\u001b[0m \u001b[32m━━━━━━━━━━━━━━━━━━━━\u001b[0m\u001b[37m\u001b[0m \u001b[1m23s\u001b[0m 2ms/step - accuracy: 0.5356 - loss: 0.0433\n",
      "Epoch 12/20\n",
      "\u001b[1m10667/10667\u001b[0m \u001b[32m━━━━━━━━━━━━━━━━━━━━\u001b[0m\u001b[37m\u001b[0m \u001b[1m23s\u001b[0m 2ms/step - accuracy: 0.5448 - loss: 0.0430\n",
      "Epoch 13/20\n",
      "\u001b[1m10667/10667\u001b[0m \u001b[32m━━━━━━━━━━━━━━━━━━━━\u001b[0m\u001b[37m\u001b[0m \u001b[1m23s\u001b[0m 2ms/step - accuracy: 0.5563 - loss: 0.0434\n",
      "Epoch 14/20\n",
      "\u001b[1m10667/10667\u001b[0m \u001b[32m━━━━━━━━━━━━━━━━━━━━\u001b[0m\u001b[37m\u001b[0m \u001b[1m23s\u001b[0m 2ms/step - accuracy: 0.5678 - loss: 0.0431\n",
      "Epoch 15/20\n",
      "\u001b[1m10667/10667\u001b[0m \u001b[32m━━━━━━━━━━━━━━━━━━━━\u001b[0m\u001b[37m\u001b[0m \u001b[1m23s\u001b[0m 2ms/step - accuracy: 0.5771 - loss: 0.0429\n",
      "Epoch 16/20\n",
      "\u001b[1m10667/10667\u001b[0m \u001b[32m━━━━━━━━━━━━━━━━━━━━\u001b[0m\u001b[37m\u001b[0m \u001b[1m23s\u001b[0m 2ms/step - accuracy: 0.5847 - loss: 0.0435\n",
      "Epoch 17/20\n",
      "\u001b[1m10667/10667\u001b[0m \u001b[32m━━━━━━━━━━━━━━━━━━━━\u001b[0m\u001b[37m\u001b[0m \u001b[1m23s\u001b[0m 2ms/step - accuracy: 0.5902 - loss: 0.0430\n",
      "Epoch 18/20\n",
      "\u001b[1m10667/10667\u001b[0m \u001b[32m━━━━━━━━━━━━━━━━━━━━\u001b[0m\u001b[37m\u001b[0m \u001b[1m22s\u001b[0m 2ms/step - accuracy: 0.5946 - loss: 0.0432\n",
      "Epoch 19/20\n",
      "\u001b[1m10667/10667\u001b[0m \u001b[32m━━━━━━━━━━━━━━━━━━━━\u001b[0m\u001b[37m\u001b[0m \u001b[1m23s\u001b[0m 2ms/step - accuracy: 0.5970 - loss: 0.0430\n",
      "Epoch 20/20\n",
      "\u001b[1m10667/10667\u001b[0m \u001b[32m━━━━━━━━━━━━━━━━━━━━\u001b[0m\u001b[37m\u001b[0m \u001b[1m23s\u001b[0m 2ms/step - accuracy: 0.6024 - loss: 0.0428\n"
     ]
    },
    {
     "ename": "InvalidArgumentError",
     "evalue": "Graph execution error:\n\nDetected at node functional_11_1/sequential_6_1/flatten_1/Reshape defined at (most recent call last):\n  File \"<frozen runpy>\", line 198, in _run_module_as_main\n\n  File \"<frozen runpy>\", line 88, in _run_code\n\n  File \"C:\\Users\\mdmoo\\AppData\\Roaming\\Python\\Python311\\site-packages\\ipykernel_launcher.py\", line 18, in <module>\n\n  File \"C:\\Users\\mdmoo\\AppData\\Roaming\\Python\\Python311\\site-packages\\traitlets\\config\\application.py\", line 1075, in launch_instance\n\n  File \"C:\\Users\\mdmoo\\AppData\\Roaming\\Python\\Python311\\site-packages\\ipykernel\\kernelapp.py\", line 739, in start\n\n  File \"C:\\Users\\mdmoo\\AppData\\Roaming\\Python\\Python311\\site-packages\\tornado\\platform\\asyncio.py\", line 205, in start\n\n  File \"c:\\Python\\Lib\\asyncio\\base_events.py\", line 608, in run_forever\n\n  File \"c:\\Python\\Lib\\asyncio\\base_events.py\", line 1936, in _run_once\n\n  File \"c:\\Python\\Lib\\asyncio\\events.py\", line 84, in _run\n\n  File \"C:\\Users\\mdmoo\\AppData\\Roaming\\Python\\Python311\\site-packages\\ipykernel\\kernelbase.py\", line 545, in dispatch_queue\n\n  File \"C:\\Users\\mdmoo\\AppData\\Roaming\\Python\\Python311\\site-packages\\ipykernel\\kernelbase.py\", line 534, in process_one\n\n  File \"C:\\Users\\mdmoo\\AppData\\Roaming\\Python\\Python311\\site-packages\\ipykernel\\kernelbase.py\", line 437, in dispatch_shell\n\n  File \"C:\\Users\\mdmoo\\AppData\\Roaming\\Python\\Python311\\site-packages\\ipykernel\\ipkernel.py\", line 362, in execute_request\n\n  File \"C:\\Users\\mdmoo\\AppData\\Roaming\\Python\\Python311\\site-packages\\ipykernel\\kernelbase.py\", line 778, in execute_request\n\n  File \"C:\\Users\\mdmoo\\AppData\\Roaming\\Python\\Python311\\site-packages\\ipykernel\\ipkernel.py\", line 449, in do_execute\n\n  File \"C:\\Users\\mdmoo\\AppData\\Roaming\\Python\\Python311\\site-packages\\ipykernel\\zmqshell.py\", line 549, in run_cell\n\n  File \"C:\\Users\\mdmoo\\AppData\\Roaming\\Python\\Python311\\site-packages\\IPython\\core\\interactiveshell.py\", line 3075, in run_cell\n\n  File \"C:\\Users\\mdmoo\\AppData\\Roaming\\Python\\Python311\\site-packages\\IPython\\core\\interactiveshell.py\", line 3130, in _run_cell\n\n  File \"C:\\Users\\mdmoo\\AppData\\Roaming\\Python\\Python311\\site-packages\\IPython\\core\\async_helpers.py\", line 129, in _pseudo_sync_runner\n\n  File \"C:\\Users\\mdmoo\\AppData\\Roaming\\Python\\Python311\\site-packages\\IPython\\core\\interactiveshell.py\", line 3334, in run_cell_async\n\n  File \"C:\\Users\\mdmoo\\AppData\\Roaming\\Python\\Python311\\site-packages\\IPython\\core\\interactiveshell.py\", line 3517, in run_ast_nodes\n\n  File \"C:\\Users\\mdmoo\\AppData\\Roaming\\Python\\Python311\\site-packages\\IPython\\core\\interactiveshell.py\", line 3577, in run_code\n\n  File \"C:\\Users\\mdmoo\\AppData\\Local\\Temp\\ipykernel_32980\\3611397434.py\", line 42, in <module>\n\n  File \"c:\\Python\\Lib\\site-packages\\keras\\src\\utils\\traceback_utils.py\", line 117, in error_handler\n\n  File \"c:\\Python\\Lib\\site-packages\\keras\\src\\backend\\tensorflow\\trainer.py\", line 508, in predict\n\n  File \"c:\\Python\\Lib\\site-packages\\keras\\src\\backend\\tensorflow\\trainer.py\", line 208, in one_step_on_data_distributed\n\n  File \"c:\\Python\\Lib\\site-packages\\keras\\src\\backend\\tensorflow\\trainer.py\", line 198, in one_step_on_data\n\n  File \"c:\\Python\\Lib\\site-packages\\keras\\src\\backend\\tensorflow\\trainer.py\", line 96, in predict_step\n\n  File \"c:\\Python\\Lib\\site-packages\\keras\\src\\utils\\traceback_utils.py\", line 117, in error_handler\n\n  File \"c:\\Python\\Lib\\site-packages\\keras\\src\\layers\\layer.py\", line 882, in __call__\n\n  File \"c:\\Python\\Lib\\site-packages\\keras\\src\\utils\\traceback_utils.py\", line 117, in error_handler\n\n  File \"c:\\Python\\Lib\\site-packages\\keras\\src\\ops\\operation.py\", line 46, in __call__\n\n  File \"c:\\Python\\Lib\\site-packages\\keras\\src\\utils\\traceback_utils.py\", line 156, in error_handler\n\n  File \"c:\\Python\\Lib\\site-packages\\keras\\src\\models\\functional.py\", line 175, in call\n\n  File \"c:\\Python\\Lib\\site-packages\\keras\\src\\ops\\function.py\", line 171, in _run_through_graph\n\n  File \"c:\\Python\\Lib\\site-packages\\keras\\src\\models\\functional.py\", line 556, in call\n\n  File \"c:\\Python\\Lib\\site-packages\\keras\\src\\utils\\traceback_utils.py\", line 117, in error_handler\n\n  File \"c:\\Python\\Lib\\site-packages\\keras\\src\\layers\\layer.py\", line 882, in __call__\n\n  File \"c:\\Python\\Lib\\site-packages\\keras\\src\\utils\\traceback_utils.py\", line 117, in error_handler\n\n  File \"c:\\Python\\Lib\\site-packages\\keras\\src\\ops\\operation.py\", line 46, in __call__\n\n  File \"c:\\Python\\Lib\\site-packages\\keras\\src\\utils\\traceback_utils.py\", line 156, in error_handler\n\n  File \"c:\\Python\\Lib\\site-packages\\keras\\src\\models\\sequential.py\", line 209, in call\n\n  File \"c:\\Python\\Lib\\site-packages\\keras\\src\\models\\functional.py\", line 175, in call\n\n  File \"c:\\Python\\Lib\\site-packages\\keras\\src\\ops\\function.py\", line 171, in _run_through_graph\n\n  File \"c:\\Python\\Lib\\site-packages\\keras\\src\\models\\functional.py\", line 556, in call\n\n  File \"c:\\Python\\Lib\\site-packages\\keras\\src\\utils\\traceback_utils.py\", line 117, in error_handler\n\n  File \"c:\\Python\\Lib\\site-packages\\keras\\src\\layers\\layer.py\", line 882, in __call__\n\n  File \"c:\\Python\\Lib\\site-packages\\keras\\src\\utils\\traceback_utils.py\", line 117, in error_handler\n\n  File \"c:\\Python\\Lib\\site-packages\\keras\\src\\ops\\operation.py\", line 46, in __call__\n\n  File \"c:\\Python\\Lib\\site-packages\\keras\\src\\utils\\traceback_utils.py\", line 156, in error_handler\n\n  File \"c:\\Python\\Lib\\site-packages\\keras\\src\\layers\\reshaping\\flatten.py\", line 54, in call\n\n  File \"c:\\Python\\Lib\\site-packages\\keras\\src\\ops\\numpy.py\", line 4440, in reshape\n\n  File \"c:\\Python\\Lib\\site-packages\\keras\\src\\backend\\tensorflow\\numpy.py\", line 1789, in reshape\n\nOnly one input size may be -1, not both 0 and 1\n\t [[{{node functional_11_1/sequential_6_1/flatten_1/Reshape}}]] [Op:__inference_one_step_on_data_distributed_64745]",
     "output_type": "error",
     "traceback": [
      "\u001b[1;31m---------------------------------------------------------------------------\u001b[0m",
      "\u001b[1;31mInvalidArgumentError\u001b[0m                      Traceback (most recent call last)",
      "Cell \u001b[1;32mIn[9], line 42\u001b[0m\n\u001b[0;32m     39\u001b[0m \u001b[38;5;28mprint\u001b[39m(y\u001b[38;5;241m.\u001b[39mshape)\n\u001b[0;32m     40\u001b[0m model\u001b[38;5;241m.\u001b[39mfit(x,y , epochs\u001b[38;5;241m=\u001b[39m\u001b[38;5;241m20\u001b[39m, batch_size\u001b[38;5;241m=\u001b[39m\u001b[38;5;241m10\u001b[39m)\n\u001b[1;32m---> 42\u001b[0m pred \u001b[38;5;241m=\u001b[39m \u001b[43mmodel\u001b[49m\u001b[38;5;241;43m.\u001b[39;49m\u001b[43mpredict\u001b[49m\u001b[43m(\u001b[49m\u001b[43mtf\u001b[49m\u001b[38;5;241;43m.\u001b[39;49m\u001b[43mzeros\u001b[49m\u001b[43m(\u001b[49m\u001b[43m(\u001b[49m\u001b[38;5;241;43m10\u001b[39;49m\u001b[43m,\u001b[49m\u001b[43m \u001b[49m\u001b[43mINPUT_SIZE\u001b[49m\u001b[43m,\u001b[49m\u001b[43m \u001b[49m\u001b[38;5;241;43m1\u001b[39;49m\u001b[43m)\u001b[49m\u001b[43m)\u001b[49m\u001b[43m)\u001b[49m\n\u001b[0;32m     44\u001b[0m pred \u001b[38;5;241m=\u001b[39m pred \u001b[38;5;241m/\u001b[39m np\u001b[38;5;241m.\u001b[39mmax(pred)\n\u001b[0;32m     45\u001b[0m pred \u001b[38;5;241m=\u001b[39m np\u001b[38;5;241m.\u001b[39marray(pred \u001b[38;5;241m*\u001b[39m \u001b[38;5;241m32767\u001b[39m, dtype\u001b[38;5;241m=\u001b[39mnp\u001b[38;5;241m.\u001b[39mint16)\n",
      "File \u001b[1;32mc:\\Python\\Lib\\site-packages\\keras\\src\\utils\\traceback_utils.py:122\u001b[0m, in \u001b[0;36mfilter_traceback.<locals>.error_handler\u001b[1;34m(*args, **kwargs)\u001b[0m\n\u001b[0;32m    119\u001b[0m     filtered_tb \u001b[38;5;241m=\u001b[39m _process_traceback_frames(e\u001b[38;5;241m.\u001b[39m__traceback__)\n\u001b[0;32m    120\u001b[0m     \u001b[38;5;66;03m# To get the full stack trace, call:\u001b[39;00m\n\u001b[0;32m    121\u001b[0m     \u001b[38;5;66;03m# `keras.config.disable_traceback_filtering()`\u001b[39;00m\n\u001b[1;32m--> 122\u001b[0m     \u001b[38;5;28;01mraise\u001b[39;00m e\u001b[38;5;241m.\u001b[39mwith_traceback(filtered_tb) \u001b[38;5;28;01mfrom\u001b[39;00m \u001b[38;5;28;01mNone\u001b[39;00m\n\u001b[0;32m    123\u001b[0m \u001b[38;5;28;01mfinally\u001b[39;00m:\n\u001b[0;32m    124\u001b[0m     \u001b[38;5;28;01mdel\u001b[39;00m filtered_tb\n",
      "File \u001b[1;32mc:\\Python\\Lib\\site-packages\\tensorflow\\python\\eager\\execute.py:53\u001b[0m, in \u001b[0;36mquick_execute\u001b[1;34m(op_name, num_outputs, inputs, attrs, ctx, name)\u001b[0m\n\u001b[0;32m     51\u001b[0m \u001b[38;5;28;01mtry\u001b[39;00m:\n\u001b[0;32m     52\u001b[0m   ctx\u001b[38;5;241m.\u001b[39mensure_initialized()\n\u001b[1;32m---> 53\u001b[0m   tensors \u001b[38;5;241m=\u001b[39m pywrap_tfe\u001b[38;5;241m.\u001b[39mTFE_Py_Execute(ctx\u001b[38;5;241m.\u001b[39m_handle, device_name, op_name,\n\u001b[0;32m     54\u001b[0m                                       inputs, attrs, num_outputs)\n\u001b[0;32m     55\u001b[0m \u001b[38;5;28;01mexcept\u001b[39;00m core\u001b[38;5;241m.\u001b[39m_NotOkStatusException \u001b[38;5;28;01mas\u001b[39;00m e:\n\u001b[0;32m     56\u001b[0m   \u001b[38;5;28;01mif\u001b[39;00m name \u001b[38;5;129;01mis\u001b[39;00m \u001b[38;5;129;01mnot\u001b[39;00m \u001b[38;5;28;01mNone\u001b[39;00m:\n",
      "\u001b[1;31mInvalidArgumentError\u001b[0m: Graph execution error:\n\nDetected at node functional_11_1/sequential_6_1/flatten_1/Reshape defined at (most recent call last):\n  File \"<frozen runpy>\", line 198, in _run_module_as_main\n\n  File \"<frozen runpy>\", line 88, in _run_code\n\n  File \"C:\\Users\\mdmoo\\AppData\\Roaming\\Python\\Python311\\site-packages\\ipykernel_launcher.py\", line 18, in <module>\n\n  File \"C:\\Users\\mdmoo\\AppData\\Roaming\\Python\\Python311\\site-packages\\traitlets\\config\\application.py\", line 1075, in launch_instance\n\n  File \"C:\\Users\\mdmoo\\AppData\\Roaming\\Python\\Python311\\site-packages\\ipykernel\\kernelapp.py\", line 739, in start\n\n  File \"C:\\Users\\mdmoo\\AppData\\Roaming\\Python\\Python311\\site-packages\\tornado\\platform\\asyncio.py\", line 205, in start\n\n  File \"c:\\Python\\Lib\\asyncio\\base_events.py\", line 608, in run_forever\n\n  File \"c:\\Python\\Lib\\asyncio\\base_events.py\", line 1936, in _run_once\n\n  File \"c:\\Python\\Lib\\asyncio\\events.py\", line 84, in _run\n\n  File \"C:\\Users\\mdmoo\\AppData\\Roaming\\Python\\Python311\\site-packages\\ipykernel\\kernelbase.py\", line 545, in dispatch_queue\n\n  File \"C:\\Users\\mdmoo\\AppData\\Roaming\\Python\\Python311\\site-packages\\ipykernel\\kernelbase.py\", line 534, in process_one\n\n  File \"C:\\Users\\mdmoo\\AppData\\Roaming\\Python\\Python311\\site-packages\\ipykernel\\kernelbase.py\", line 437, in dispatch_shell\n\n  File \"C:\\Users\\mdmoo\\AppData\\Roaming\\Python\\Python311\\site-packages\\ipykernel\\ipkernel.py\", line 362, in execute_request\n\n  File \"C:\\Users\\mdmoo\\AppData\\Roaming\\Python\\Python311\\site-packages\\ipykernel\\kernelbase.py\", line 778, in execute_request\n\n  File \"C:\\Users\\mdmoo\\AppData\\Roaming\\Python\\Python311\\site-packages\\ipykernel\\ipkernel.py\", line 449, in do_execute\n\n  File \"C:\\Users\\mdmoo\\AppData\\Roaming\\Python\\Python311\\site-packages\\ipykernel\\zmqshell.py\", line 549, in run_cell\n\n  File \"C:\\Users\\mdmoo\\AppData\\Roaming\\Python\\Python311\\site-packages\\IPython\\core\\interactiveshell.py\", line 3075, in run_cell\n\n  File \"C:\\Users\\mdmoo\\AppData\\Roaming\\Python\\Python311\\site-packages\\IPython\\core\\interactiveshell.py\", line 3130, in _run_cell\n\n  File \"C:\\Users\\mdmoo\\AppData\\Roaming\\Python\\Python311\\site-packages\\IPython\\core\\async_helpers.py\", line 129, in _pseudo_sync_runner\n\n  File \"C:\\Users\\mdmoo\\AppData\\Roaming\\Python\\Python311\\site-packages\\IPython\\core\\interactiveshell.py\", line 3334, in run_cell_async\n\n  File \"C:\\Users\\mdmoo\\AppData\\Roaming\\Python\\Python311\\site-packages\\IPython\\core\\interactiveshell.py\", line 3517, in run_ast_nodes\n\n  File \"C:\\Users\\mdmoo\\AppData\\Roaming\\Python\\Python311\\site-packages\\IPython\\core\\interactiveshell.py\", line 3577, in run_code\n\n  File \"C:\\Users\\mdmoo\\AppData\\Local\\Temp\\ipykernel_32980\\3611397434.py\", line 42, in <module>\n\n  File \"c:\\Python\\Lib\\site-packages\\keras\\src\\utils\\traceback_utils.py\", line 117, in error_handler\n\n  File \"c:\\Python\\Lib\\site-packages\\keras\\src\\backend\\tensorflow\\trainer.py\", line 508, in predict\n\n  File \"c:\\Python\\Lib\\site-packages\\keras\\src\\backend\\tensorflow\\trainer.py\", line 208, in one_step_on_data_distributed\n\n  File \"c:\\Python\\Lib\\site-packages\\keras\\src\\backend\\tensorflow\\trainer.py\", line 198, in one_step_on_data\n\n  File \"c:\\Python\\Lib\\site-packages\\keras\\src\\backend\\tensorflow\\trainer.py\", line 96, in predict_step\n\n  File \"c:\\Python\\Lib\\site-packages\\keras\\src\\utils\\traceback_utils.py\", line 117, in error_handler\n\n  File \"c:\\Python\\Lib\\site-packages\\keras\\src\\layers\\layer.py\", line 882, in __call__\n\n  File \"c:\\Python\\Lib\\site-packages\\keras\\src\\utils\\traceback_utils.py\", line 117, in error_handler\n\n  File \"c:\\Python\\Lib\\site-packages\\keras\\src\\ops\\operation.py\", line 46, in __call__\n\n  File \"c:\\Python\\Lib\\site-packages\\keras\\src\\utils\\traceback_utils.py\", line 156, in error_handler\n\n  File \"c:\\Python\\Lib\\site-packages\\keras\\src\\models\\functional.py\", line 175, in call\n\n  File \"c:\\Python\\Lib\\site-packages\\keras\\src\\ops\\function.py\", line 171, in _run_through_graph\n\n  File \"c:\\Python\\Lib\\site-packages\\keras\\src\\models\\functional.py\", line 556, in call\n\n  File \"c:\\Python\\Lib\\site-packages\\keras\\src\\utils\\traceback_utils.py\", line 117, in error_handler\n\n  File \"c:\\Python\\Lib\\site-packages\\keras\\src\\layers\\layer.py\", line 882, in __call__\n\n  File \"c:\\Python\\Lib\\site-packages\\keras\\src\\utils\\traceback_utils.py\", line 117, in error_handler\n\n  File \"c:\\Python\\Lib\\site-packages\\keras\\src\\ops\\operation.py\", line 46, in __call__\n\n  File \"c:\\Python\\Lib\\site-packages\\keras\\src\\utils\\traceback_utils.py\", line 156, in error_handler\n\n  File \"c:\\Python\\Lib\\site-packages\\keras\\src\\models\\sequential.py\", line 209, in call\n\n  File \"c:\\Python\\Lib\\site-packages\\keras\\src\\models\\functional.py\", line 175, in call\n\n  File \"c:\\Python\\Lib\\site-packages\\keras\\src\\ops\\function.py\", line 171, in _run_through_graph\n\n  File \"c:\\Python\\Lib\\site-packages\\keras\\src\\models\\functional.py\", line 556, in call\n\n  File \"c:\\Python\\Lib\\site-packages\\keras\\src\\utils\\traceback_utils.py\", line 117, in error_handler\n\n  File \"c:\\Python\\Lib\\site-packages\\keras\\src\\layers\\layer.py\", line 882, in __call__\n\n  File \"c:\\Python\\Lib\\site-packages\\keras\\src\\utils\\traceback_utils.py\", line 117, in error_handler\n\n  File \"c:\\Python\\Lib\\site-packages\\keras\\src\\ops\\operation.py\", line 46, in __call__\n\n  File \"c:\\Python\\Lib\\site-packages\\keras\\src\\utils\\traceback_utils.py\", line 156, in error_handler\n\n  File \"c:\\Python\\Lib\\site-packages\\keras\\src\\layers\\reshaping\\flatten.py\", line 54, in call\n\n  File \"c:\\Python\\Lib\\site-packages\\keras\\src\\ops\\numpy.py\", line 4440, in reshape\n\n  File \"c:\\Python\\Lib\\site-packages\\keras\\src\\backend\\tensorflow\\numpy.py\", line 1789, in reshape\n\nOnly one input size may be -1, not both 0 and 1\n\t [[{{node functional_11_1/sequential_6_1/flatten_1/Reshape}}]] [Op:__inference_one_step_on_data_distributed_64745]"
     ]
    }
   ],
   "source": [
    "from scipy.io import wavfile\n",
    "\n",
    "\n",
    "def take_samples(data: np.ndarray, sample_size: int):\n",
    "    samples = []\n",
    "    for i in range(0, len(data), sample_size):\n",
    "        sample = data[i:i+sample_size]\n",
    "        if len(sample) < sample_size:\n",
    "            sample = np.pad(sample, (0, sample_size - len(sample)))\n",
    "            \n",
    "        samples.append(sample)\n",
    "    \n",
    "    samples = np.array(samples)\n",
    "    \n",
    "    return samples.reshape(samples.shape[0], samples.shape[1], 1)\n",
    "\n",
    "\n",
    "def load_normalized_waveform(path: str) -> tuple[int, np.ndarray, int]:\n",
    "    samplerate, data = wavfile.read(path)\n",
    "    n_channels = data.shape[1]\n",
    "\n",
    "    if n_channels > 1:\n",
    "        data = data.mean(axis=1)\n",
    "        data = data / np.max(data, axis=0)\n",
    "\n",
    "    return samplerate, data\n",
    "\n",
    "\n",
    "output_dir = \"predictions\"\n",
    "\n",
    "\n",
    "sr, song_sample = load_normalized_waveform(\"../../data/song.wav\")\n",
    "\n",
    "samples = take_samples(song_sample, INPUT_SIZE)\n",
    "x = samples\n",
    "y = samples.reshape(samples.shape[0], samples.shape[1])\n",
    "\n",
    "print(x.shape)\n",
    "print(y.shape)\n",
    "model.fit(x,y , epochs=20, batch_size=10)\n",
    "\n",
    "pred = model.predict(tf.zeros((10, INPUT_SIZE, 1)))\n",
    "\n",
    "pred = pred / np.max(pred)\n",
    "pred = np.array(pred * 32767, dtype=np.int16)\n",
    "\n",
    "pred = pred.reshape(-1)\n",
    "print(pred)\n",
    "wavfile.write(\"output.wav\", 48000, pred)\n",
    "\n"
   ]
  }
 ],
 "metadata": {
  "kernelspec": {
   "display_name": "Python 3",
   "language": "python",
   "name": "python3"
  },
  "language_info": {
   "codemirror_mode": {
    "name": "ipython",
    "version": 3
   },
   "file_extension": ".py",
   "mimetype": "text/x-python",
   "name": "python",
   "nbconvert_exporter": "python",
   "pygments_lexer": "ipython3",
   "version": "3.11.9"
  }
 },
 "nbformat": 4,
 "nbformat_minor": 2
}
